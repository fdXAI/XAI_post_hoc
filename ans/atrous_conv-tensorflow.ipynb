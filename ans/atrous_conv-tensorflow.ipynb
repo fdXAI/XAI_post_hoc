{
 "cells": [
  {
   "cell_type": "code",
   "execution_count": null,
   "metadata": {},
   "outputs": [],
   "source": [
    "import tensorflow as tf\n",
    "import random\n",
    "import numpy as np\n",
    "from tensorflow import keras"
   ]
  },
  {
   "cell_type": "code",
   "execution_count": null,
   "metadata": {},
   "outputs": [],
   "source": [
    "fashion_mnist = keras.datasets.fashion_mnist\n",
    "h = w = 28\n",
    "(X_train, y_train), (X_test, y_test) = fashion_mnist.load_data()"
   ]
  },
  {
   "cell_type": "code",
   "execution_count": null,
   "metadata": {},
   "outputs": [],
   "source": [
    "def create_train_set(num):\n",
    "    '''\n",
    "    num: batch_size.\n",
    "    \n",
    "    '''\n",
    "    train_batch_list = random.sample(range(len(X_train)),num)\n",
    "    label_onehot = np.zeros((num,10))\n",
    "    train_set = np.zeros((num,h,w))\n",
    "    for i,item in enumerate(train_batch_list):\n",
    "        train_set[i,:,:] = X_train[item]\n",
    "        label_onehot[i][y_train[item]] = 1\n",
    "    return train_set/255, label_onehot\n"
   ]
  },
  {
   "cell_type": "code",
   "execution_count": null,
   "metadata": {},
   "outputs": [],
   "source": [
    "X = tf.placeholder(tf.float32, [None, 28, 28, 1])\n",
    "Y = tf.placeholder(tf.float32, [None, 10])\n",
    "\n",
    "filter_1 = tf.Variable(tf.random_normal([3, 3, 1, 32], stddev=0.01))\n",
    "layer_1 = tf.nn.atrous_conv2d(value=X, filters=filter_1, rate=2, padding='SAME')\n",
    "layer_1 = tf.nn.relu(layer_1)\n",
    "layer_1 = tf.nn.max_pool(layer_1, ksize=[1, 2, 2, 1], strides=[1, 2, 2, 1], padding='SAME')\n",
    "\n",
    "\n",
    "filter_2 = tf.Variable(tf.random_normal([3, 3, 32, 64], stddev=0.01))\n",
    "layer_2 = tf.nn.atrous_conv2d(value=layer_1, filters=filter_2, rate=2, padding='SAME')\n",
    "layer_2 = tf.nn.relu(layer_2)\n",
    "layer_2 = tf.nn.max_pool(layer_2, ksize=[1, 2, 2, 1], strides=[1, 2, 2, 1], padding='SAME')\n",
    "\n",
    "weight_fc = tf.Variable(tf.random_normal([7 * 7 * 64, 256], stddev=0.01))\n",
    "layer_fc = tf.reshape(layer_2, [-1, 7 * 7 * 64])\n",
    "layer_fc = tf.matmul(layer_fc, weight_fc)\n",
    "layer_fc = tf.nn.relu(layer_fc)\n",
    "\n",
    "W = tf.Variable(tf.random_normal([256, 10], stddev=0.01))\n",
    "model = tf.matmul(layer_fc, W)\n",
    "\n",
    "cost = tf.reduce_mean(tf.nn.softmax_cross_entropy_with_logits_v2(logits=model, labels=Y))\n",
    "optimizer = tf.train.AdamOptimizer(0.003).minimize(cost)\n",
    "correct = tf.equal(tf.argmax(model, 1), tf.argmax(Y, 1))\n",
    "accuracy = tf.reduce_mean(tf.cast(correct, tf.float32))\n"
   ]
  },
  {
   "cell_type": "code",
   "execution_count": null,
   "metadata": {},
   "outputs": [],
   "source": [
    "init = tf.global_variables_initializer()\n",
    "sess = tf.Session()\n",
    "sess.run(init)\n",
    "tf.reset_default_graph()\n",
    "batch_size = 128\n",
    "total_batch = int(len(X_train) / batch_size)\n",
    "\n",
    "for epoch in range(10):\n",
    "    total_cost = 0\n",
    "\n",
    "    for i in range(total_batch):\n",
    "        batch_xs, batch_ys = create_train_set(batch_size)\n",
    "        batch_xs = batch_xs.reshape(-1, 28, 28, 1)\n",
    "        _, cost_val = sess.run([optimizer, cost],\n",
    "                               feed_dict={X: batch_xs,\n",
    "                                          Y: batch_ys,})\n",
    "        total_cost += cost_val\n",
    "        if i % 50 == 0:\n",
    "            batch_xs_test, batch_ys_test = create_train_set(batch_size)\n",
    "            batch_xs_test = batch_xs_test.reshape(-1, 28, 28, 1)\n",
    "            print('train acc:', sess.run(accuracy,\n",
    "                                    feed_dict={X: batch_xs_test,\n",
    "                                               Y: batch_ys_test}))\n",
    "            print('val acc:', sess.run(accuracy,\n",
    "                                    feed_dict={X: X_test.reshape(-1, 28, 28, 1),\n",
    "                                               Y: np.eye(10)[y_test],}))"
   ]
  },
  {
   "cell_type": "code",
   "execution_count": null,
   "metadata": {},
   "outputs": [],
   "source": []
  },
  {
   "cell_type": "code",
   "execution_count": null,
   "metadata": {},
   "outputs": [],
   "source": []
  }
 ],
 "metadata": {
  "kernelspec": {
   "display_name": "Python [conda env:anaconda3]",
   "language": "python",
   "name": "conda-env-anaconda3-py"
  },
  "language_info": {
   "codemirror_mode": {
    "name": "ipython",
    "version": 3
   },
   "file_extension": ".py",
   "mimetype": "text/x-python",
   "name": "python",
   "nbconvert_exporter": "python",
   "pygments_lexer": "ipython3",
   "version": "3.6.7"
  }
 },
 "nbformat": 4,
 "nbformat_minor": 2
}
