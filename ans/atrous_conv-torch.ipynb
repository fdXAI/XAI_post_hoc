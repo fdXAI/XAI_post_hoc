{
 "cells": [
  {
   "cell_type": "code",
   "execution_count": null,
   "metadata": {},
   "outputs": [],
   "source": [
    "import numpy as np\n",
    "import torch\n",
    "import torch.nn as nn\n",
    "from torch.optim import Adam\n",
    "import torch.utils.data as Data\n",
    "from torchvision import transforms\n",
    "from torchvision.datasets import FashionMNIST"
   ]
  },
  {
   "cell_type": "code",
   "execution_count": null,
   "metadata": {},
   "outputs": [],
   "source": [
    "train_data = FashionMNIST(\n",
    "    root = \"./data/FashionMNIST\",\n",
    "    train = True,\n",
    "    transform = transforms.ToTensor(),\n",
    "    download = True\n",
    ")\n",
    "train_loader = Data.DataLoader(\n",
    "    dataset = train_data,\n",
    "    batch_size = 128,\n",
    "    shuffle = False,\n",
    "    num_workers = 0,\n",
    ")\n",
    "test_data = FashionMNIST(\n",
    "    root = \"./data/FashionMNIST\",\n",
    "    train = False,\n",
    "    download = False\n",
    ")\n",
    "\n",
    "\n",
    "test_x = test_data.test_data.type(torch.FloatTensor)/255.0\n",
    "test_x = torch.unsqueeze(test_x,dim = 1)\n",
    "test_y = test_data.test_labels\n"
   ]
  },
  {
   "cell_type": "code",
   "execution_count": null,
   "metadata": {},
   "outputs": [],
   "source": [
    "class atrousConvNet(nn.Module):\n",
    "    def __init__(self):\n",
    "        super(atrousConvNet,self).__init__()\n",
    "\n",
    "        self.conv1 = nn.Sequential(\n",
    "\n",
    "            nn.Conv2d(1,16,3,1,1,dilation = 2),\n",
    "            nn.ReLU(),\n",
    "            nn.MaxPool2d(2,2), \n",
    "        )\n",
    "        ##定义第二个卷积层\n",
    "        self.conv2 = nn.Sequential(\n",
    "            nn.Conv2d(16,32,3,1,0,dilation=2),\n",
    "            nn.ReLU(),\n",
    "            nn.MaxPool2d(2,2),\n",
    "        )\n",
    "        self.classifier = nn.Sequential(\n",
    "            nn.Linear(32*4*4,256),\n",
    "            nn.ReLU(),\n",
    "            nn.Linear(256,10),\n",
    "        )\n",
    "\n",
    "    def forward(self,x):\n",
    "        x = self.conv1(x)\n",
    "        x = self.conv2(x)\n",
    "        x = x.view(x.size(0),-1) \n",
    "        output = self.classifier(x)\n",
    "        return output\n",
    "\n",
    "model_atrous = atrousConvNet()"
   ]
  },
  {
   "cell_type": "code",
   "execution_count": null,
   "metadata": {},
   "outputs": [],
   "source": [
    "batch_num = len(train_loader)\n",
    "train_batch_num = round(batch_num * 0.8)\n",
    "num_epochs = 25\n",
    "optimizer = torch.optim.Adam(model_atrous.parameters(),lr=0.003)\n",
    "criterion = nn.CrossEntropyLoss() \n",
    "for epoch in range(num_epochs):\n",
    "\n",
    "    train_corrects= 0\n",
    "\n",
    "    for step,(xx,yy) in enumerate(train_loader):\n",
    "\n",
    "        model_atrous.train() \n",
    "        output = model_atrous(xx)\n",
    "        pred = torch.argmax(output,1)\n",
    "        loss = criterion(output,yy)\n",
    "        optimizer.zero_grad()\n",
    "        loss.backward()\n",
    "        optimizer.step()\n",
    "\n",
    "        train_corrects += torch.sum(pred == yy.data)\n",
    "\n",
    "    model_atrous.eval() \n",
    "    output = model_atrous(test_x)\n",
    "    pred = torch.argmax(output,1)\n",
    "    val_corrects += torch.sum(pred == test_y.data)\n",
    "\n",
    "    train_acc_now = train_corrects.double().item()/batch_num\n",
    "    val_acc_now = val_corrects.double().item()/len(test_y.data)\n",
    "    print('Train Acc: {:.4f}'.format(train_acc_now))\n",
    "    print('Test Acc:{:.4f}'.format(val_acc_now))\n"
   ]
  },
  {
   "cell_type": "code",
   "execution_count": null,
   "metadata": {},
   "outputs": [],
   "source": []
  }
 ],
 "metadata": {
  "kernelspec": {
   "display_name": "Python [conda env:anaconda3]",
   "language": "python",
   "name": "conda-env-anaconda3-py"
  },
  "language_info": {
   "codemirror_mode": {
    "name": "ipython",
    "version": 3
   },
   "file_extension": ".py",
   "mimetype": "text/x-python",
   "name": "python",
   "nbconvert_exporter": "python",
   "pygments_lexer": "ipython3",
   "version": "3.6.7"
  }
 },
 "nbformat": 4,
 "nbformat_minor": 2
}
